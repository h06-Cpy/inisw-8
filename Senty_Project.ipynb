{
  "nbformat": 4,
  "nbformat_minor": 0,
  "metadata": {
    "colab": {
      "provenance": [],
      "machine_shape": "hm",
      "gpuType": "T4",
      "toc_visible": true,
      "include_colab_link": true
    },
    "kernelspec": {
      "name": "python3",
      "display_name": "Python 3"
    },
    "language_info": {
      "name": "python"
    },
    "accelerator": "GPU"
  },
  "cells": [
    {
      "cell_type": "markdown",
      "metadata": {
        "id": "view-in-github",
        "colab_type": "text"
      },
      "source": [
        "<a href=\"https://colab.research.google.com/github/h06-Cpy/inisw-8/blob/main/Senty_Project.ipynb\" target=\"_parent\"><img src=\"https://colab.research.google.com/assets/colab-badge.svg\" alt=\"Open In Colab\"/></a>"
      ]
    },
    {
      "cell_type": "markdown",
      "source": [
        "# 🤗 **Senty Project**\n",
        "\n",
        "---"
      ],
      "metadata": {
        "id": "HLTSoO_ajs9h"
      }
    },
    {
      "cell_type": "code",
      "source": [
        "import torch\n",
        "import psutil\n",
        "#@markdown **mlm-modeing**\n",
        "mlm_check = True #@param {type:\"boolean\"}\n",
        "#@markdown <b/>\n",
        "\n",
        "#@markdown ---\n",
        "#@markdown **topic-modeling**\n",
        "topic_check = True #@param {type:\"boolean\"}\n",
        "#@markdown <b/>\n",
        "\n",
        "#@markdown ---\n",
        "#@markdown **tweet-sa-roberta**\n",
        "tweet_check = True #@param {type:\"boolean\"}\n",
        "#@markdown <b/>\n",
        "\n",
        "#@markdown ---\n",
        "#@markdown **lda-topic-sentiment**\n",
        "lda_sen = True #@param {type:\"boolean\"}\n",
        "#@markdown <b/>\n",
        "\n",
        "#@markdown ---\n",
        "#@markdown **구글 Drive에 저장하고 싶나요?**\n",
        "google_drive = True #@param {type:\"boolean\"}\n",
        "\n",
        "\n",
        "if google_drive:\n",
        "  from google.colab import drive\n",
        "  drive.mount('/content/drive')\n",
        "device = torch.device('cuda' if torch.cuda.is_available() else 'cpu')\n",
        "if device == 'cuda':\n",
        "  print('GPU 가 잘 연결 되어있습니다.')\n",
        "elif str(device) == 'cuda':\n",
        "  print('GPU 가 잘 연결 되어있습니다.')\n",
        "else:\n",
        "  print('google colab 런타임에 GPU를 연결해주세요!')\n",
        "ram_capacity = psutil.virtual_memory().total\n",
        "ram_capacity_gb = ram_capacity / (1024 ** 3)\n",
        "print(f\"RAM Capacity: {ram_capacity_gb:.2f} GB\")\n",
        "\n",
        "#@title Git repo 가져오기 { vertical-output: true }\n",
        "if mlm_check:\n",
        "  %cd /content/\n",
        "  !git clone https://github.com/ugiugi0823/mlm-modeing.git\n",
        "  print('mlm-modeing, 가져오기 성공')\n",
        "\n",
        "\n",
        "if topic_check:\n",
        "  %cd /content/\n",
        "  !git clone https://github.com/ugiugi0823/topic-modeling.git\n",
        "  print('topic-modeling, 가져오기 성공')\n",
        "\n",
        "if tweet_check:\n",
        "  %cd /content/\n",
        "  !git clone https://github.com/ugiugi0823/tweet-sa-roberta.git\n",
        "  print('tweet-sa-roberta, 가져오기 성공')\n",
        "\n",
        "if lda_sen:\n",
        "  %cd /content/\n",
        "  !git clone https://github.com/ugiugi0823/lda-topic-sentiment.git\n",
        "  print('lda-topic-sentiment, 가져오기 성공')"
      ],
      "metadata": {
        "cellView": "form",
        "id": "L1Mo8eALuoVe"
      },
      "execution_count": null,
      "outputs": []
    },
    {
      "cell_type": "markdown",
      "source": [
        "## 🤗 **mlm-modeing**"
      ],
      "metadata": {
        "id": "D8-RmJjfjcAe"
      }
    },
    {
      "cell_type": "code",
      "source": [
        "#@markdown # **Senty Project**\n",
        "#@markdown ### Sentiment Analysis Program\n",
        "\n",
        "#@markdown -----\n",
        "\n",
        "#@markdown **mlm-modeing**\n",
        "T5 = False #@param {type:\"boolean\"}\n",
        "RoBERTa = True #@param {type:\"boolean\"}\n",
        "if T5:\n",
        "  %cd /content/mlm-modeing\n",
        "  !bash mlm_t5.sh\n",
        "  !bash get_bin.sh\n",
        "\n",
        "if RoBERTa:\n",
        "  %cd /content/mlm-modeing\n",
        "  !bash mlm.sh\n"
      ],
      "metadata": {
        "id": "48-Wr_FxxRgv"
      },
      "execution_count": null,
      "outputs": []
    },
    {
      "cell_type": "markdown",
      "source": [
        "---"
      ],
      "metadata": {
        "id": "K6KMRJM-31k0"
      }
    },
    {
      "cell_type": "markdown",
      "source": [
        "## 🤗 **Topic-Modeling**"
      ],
      "metadata": {
        "id": "Dh5vNVsE324r"
      }
    },
    {
      "cell_type": "code",
      "source": [
        "#@markdown # **Senty Project**\n",
        "#@markdown ### Sentiment Analysis Program\n",
        "\n",
        "\n",
        "#@markdown ---\n",
        "\n",
        "#@markdown **topic-modeling**\n",
        "BERTopic = True #@param {type:\"boolean\"}"
      ],
      "metadata": {
        "id": "WDOGpw1jxRjf"
      },
      "execution_count": null,
      "outputs": []
    },
    {
      "cell_type": "code",
      "source": [
        "#@title barchart { vertical-output: true }\n",
        "from PIL import Image\n",
        "import matplotlib.pyplot as plt\n",
        "\n",
        "if BERTopic:\n",
        "  # %cd /content/topic-modeling\n",
        "  # !bash run.sh\n",
        "\n",
        "  image = Image.open('/content/drive/MyDrive/inisw08/bertopic/barchart/ugiugi-inisw08-T5-mlm-adafactor_testpreproc_6_2_barchart.png')\n",
        "  plt.imshow(image)\n",
        "  plt.axis('off')\n",
        "  plt.show()"
      ],
      "metadata": {
        "colab": {
          "base_uri": "https://localhost:8080/",
          "height": 285
        },
        "id": "OOeOFqHd0drV",
        "outputId": "09f2f212-563f-4d46-8551-5bfb233e2afe"
      },
      "execution_count": null,
      "outputs": [
        {
          "output_type": "display_data",
          "data": {
            "text/plain": [
              "<Figure size 640x480 with 1 Axes>"
            ],
            "image/png": "[encoded data removed]"
          },
          "metadata": {}
        }
      ]
    },
    {
      "cell_type": "markdown",
      "source": [
        "---"
      ],
      "metadata": {
        "id": "C-NOuiwQ3x9f"
      }
    },
    {
      "cell_type": "markdown",
      "source": [
        "## 🤗 **Tweet-SA-RoBERTa**"
      ],
      "metadata": {
        "id": "hSBHZmep2iT0"
      }
    },
    {
      "cell_type": "code",
      "source": [
        "#@markdown # **Senty Project**\n",
        "#@markdown ### Sentiment Analysis Program\n",
        "\n",
        "#@markdown -----\n",
        "\n",
        "#@markdown **tweet-sa-roberta**\n",
        "Train = True #@param {type:\"boolean\"}\n",
        "Test = True #@param {type:\"boolean\"}\n",
        "\n",
        "if Train:\n",
        "  %cd /content/tweet-sa-roberta\n",
        "  !bash train.sh\n",
        "\n",
        "\n",
        "if Test:\n",
        "  %cd /content/tweet-sa-roberta\n",
        "  !bash test.sh"
      ],
      "metadata": {
        "id": "-8ckdZTtx8jz"
      },
      "execution_count": null,
      "outputs": []
    },
    {
      "cell_type": "markdown",
      "source": [
        "---"
      ],
      "metadata": {
        "id": "rmlZZyqu3tva"
      }
    },
    {
      "cell_type": "markdown",
      "source": [
        "## 🤗 **LDA-Topic-Sentiment**"
      ],
      "metadata": {
        "id": "ypsP_7y13rD9"
      }
    },
    {
      "cell_type": "code",
      "source": [
        "#@markdown # **Senty Project**\n",
        "#@markdown ### Sentiment Analysis Program\n",
        "#@markdown -----\n",
        "#@markdown <b/>\n",
        "\n",
        "#@markdown **lda-topic-sentiment**\n",
        "Sentiment = True #@param {type:\"boolean\"}\n",
        "\n",
        "if Sentiment:\n",
        "  %cd /content/lda-topic-sentiment\n",
        "  !bash run.sh"
      ],
      "metadata": {
        "id": "20cVGYmtxRmD"
      },
      "execution_count": null,
      "outputs": []
    },
    {
      "cell_type": "code",
      "source": [
        "#@title **Result**\n",
        "import pandas as pd\n",
        "topi_number = 0\n",
        "sen = pd.read_csv(f'/content/drive/MyDrive/inisw08/lda-topic-sentiment/sentiment_result/result_topic_{topi_number}_text.csv')\n",
        "sen"
      ],
      "metadata": {
        "colab": {
          "base_uri": "https://localhost:8080/",
          "height": 423
        },
        "id": "eSIh6VpJxRqx",
        "outputId": "945c6de0-01ae-408a-d6f9-0a30e9d63c1f"
      },
      "execution_count": null,
      "outputs": [
        {
          "output_type": "execute_result",
          "data": {
            "text/plain": [
              "     topic                   id                   tweetDate  \\\n",
              "0        0  1661047291476844545  2023-05-23 16:31:49.000000   \n",
              "1        0  1661051258508132370  2023-05-23 16:47:35.000000   \n",
              "2        0  1661051196348706816  2023-05-23 16:47:20.000000   \n",
              "3        0  1661044582618939394  2023-05-23 16:21:03.000000   \n",
              "4        0  1661044592937164800  2023-05-23 16:21:06.000000   \n",
              "..     ...                  ...                         ...   \n",
              "105      0  1661047832080535553  2023-05-23 16:33:58.000000   \n",
              "106      0  1661047756297740294  2023-05-23 16:33:40.000000   \n",
              "107      0  1661052508494495745  2023-05-23 16:52:33.000000   \n",
              "108      0  1661053050306404353  2023-05-23 16:54:42.000000   \n",
              "109      0  1661048102155960320  2023-05-23 16:35:02.000000   \n",
              "\n",
              "                                                  text  negative   neutral  \\\n",
              "0    I’m not seeing Bey for a couple more months bu...  0.026156  0.241995   \n",
              "1    @hawapowa_ @fantasia_daily Wait, what? Let me ...  0.198071  0.622662   \n",
              "2    @CezaryXR @VRCatalans @nomolos96 The Quest run...  0.015411  0.737173   \n",
              "3    @iskylght @upscalebutta Google the word lesbia...  0.201197  0.748578   \n",
              "4    @ELDERGODHEAVY @kunaiposting haha I had to goo...  0.646360  0.294493   \n",
              "..                                                 ...       ...       ...   \n",
              "105  @SussexGeoff These snaps are blooming lovely, ...  0.003634  0.013214   \n",
              "106  @googlemaps please add a feature to flag revie...  0.652606  0.330381   \n",
              "107  @OdessaMcleod14 @KimberlyLyn9 They said it's f...  0.003588  0.230582   \n",
              "108      \"Google Just Makes It Work\" #GML2023 #ppcchat  0.003799  0.118735   \n",
              "109  @bennjordan Meanwhile, they whine about rainbo...  0.646154  0.303830   \n",
              "\n",
              "     positive  \n",
              "0    0.731848  \n",
              "1    0.179267  \n",
              "2    0.247416  \n",
              "3    0.050224  \n",
              "4    0.059147  \n",
              "..        ...  \n",
              "105  0.983152  \n",
              "106  0.017012  \n",
              "107  0.765830  \n",
              "108  0.877467  \n",
              "109  0.050016  \n",
              "\n",
              "[110 rows x 7 columns]"
            ],
            "text/html": [
              "\n",
              "  <div id=\"df-0c43b633-27b4-4f77-92b8-f6100d6578c6\">\n",
              "    <div class=\"colab-df-container\">\n",
              "      <div>\n",
              "<style scoped>\n",
              "    .dataframe tbody tr th:only-of-type {\n",
              "        vertical-align: middle;\n",
              "    }\n",
              "\n",
              "    .dataframe tbody tr th {\n",
              "        vertical-align: top;\n",
              "    }\n",
              "\n",
              "    .dataframe thead th {\n",
              "        text-align: right;\n",
              "    }\n",
              "</style>\n",
              "<table border=\"1\" class=\"dataframe\">\n",
              "  <thead>\n",
              "    <tr style=\"text-align: right;\">\n",
              "      <th></th>\n",
              "      <th>topic</th>\n",
              "      <th>id</th>\n",
              "      <th>tweetDate</th>\n",
              "      <th>text</th>\n",
              "      <th>negative</th>\n",
              "      <th>neutral</th>\n",
              "      <th>positive</th>\n",
              "    </tr>\n",
              "  </thead>\n",
              "  <tbody>\n",
              "    <tr>\n",
              "      <th>0</th>\n",
              "      <td>0</td>\n",
              "      <td>1661047291476844545</td>\n",
              "      <td>2023-05-23 16:31:49.000000</td>\n",
              "      <td>I’m not seeing Bey for a couple more months bu...</td>\n",
              "      <td>0.026156</td>\n",
              "      <td>0.241995</td>\n",
              "      <td>0.731848</td>\n",
              "    </tr>\n",
              "    <tr>\n",
              "      <th>1</th>\n",
              "      <td>0</td>\n",
              "      <td>1661051258508132370</td>\n",
              "      <td>2023-05-23 16:47:35.000000</td>\n",
              "      <td>@hawapowa_ @fantasia_daily Wait, what? Let me ...</td>\n",
              "      <td>0.198071</td>\n",
              "      <td>0.622662</td>\n",
              "      <td>0.179267</td>\n",
              "    </tr>\n",
              "    <tr>\n",
              "      <th>2</th>\n",
              "      <td>0</td>\n",
              "      <td>1661051196348706816</td>\n",
              "      <td>2023-05-23 16:47:20.000000</td>\n",
              "      <td>@CezaryXR @VRCatalans @nomolos96 The Quest run...</td>\n",
              "      <td>0.015411</td>\n",
              "      <td>0.737173</td>\n",
              "      <td>0.247416</td>\n",
              "    </tr>\n",
              "    <tr>\n",
              "      <th>3</th>\n",
              "      <td>0</td>\n",
              "      <td>1661044582618939394</td>\n",
              "      <td>2023-05-23 16:21:03.000000</td>\n",
              "      <td>@iskylght @upscalebutta Google the word lesbia...</td>\n",
              "      <td>0.201197</td>\n",
              "      <td>0.748578</td>\n",
              "      <td>0.050224</td>\n",
              "    </tr>\n",
              "    <tr>\n",
              "      <th>4</th>\n",
              "      <td>0</td>\n",
              "      <td>1661044592937164800</td>\n",
              "      <td>2023-05-23 16:21:06.000000</td>\n",
              "      <td>@ELDERGODHEAVY @kunaiposting haha I had to goo...</td>\n",
              "      <td>0.646360</td>\n",
              "      <td>0.294493</td>\n",
              "      <td>0.059147</td>\n",
              "    </tr>\n",
              "    <tr>\n",
              "      <th>...</th>\n",
              "      <td>...</td>\n",
              "      <td>...</td>\n",
              "      <td>...</td>\n",
              "      <td>...</td>\n",
              "      <td>...</td>\n",
              "      <td>...</td>\n",
              "      <td>...</td>\n",
              "    </tr>\n",
              "    <tr>\n",
              "      <th>105</th>\n",
              "      <td>0</td>\n",
              "      <td>1661047832080535553</td>\n",
              "      <td>2023-05-23 16:33:58.000000</td>\n",
              "      <td>@SussexGeoff These snaps are blooming lovely, ...</td>\n",
              "      <td>0.003634</td>\n",
              "      <td>0.013214</td>\n",
              "      <td>0.983152</td>\n",
              "    </tr>\n",
              "    <tr>\n",
              "      <th>106</th>\n",
              "      <td>0</td>\n",
              "      <td>1661047756297740294</td>\n",
              "      <td>2023-05-23 16:33:40.000000</td>\n",
              "      <td>@googlemaps please add a feature to flag revie...</td>\n",
              "      <td>0.652606</td>\n",
              "      <td>0.330381</td>\n",
              "      <td>0.017012</td>\n",
              "    </tr>\n",
              "    <tr>\n",
              "      <th>107</th>\n",
              "      <td>0</td>\n",
              "      <td>1661052508494495745</td>\n",
              "      <td>2023-05-23 16:52:33.000000</td>\n",
              "      <td>@OdessaMcleod14 @KimberlyLyn9 They said it's f...</td>\n",
              "      <td>0.003588</td>\n",
              "      <td>0.230582</td>\n",
              "      <td>0.765830</td>\n",
              "    </tr>\n",
              "    <tr>\n",
              "      <th>108</th>\n",
              "      <td>0</td>\n",
              "      <td>1661053050306404353</td>\n",
              "      <td>2023-05-23 16:54:42.000000</td>\n",
              "      <td>\"Google Just Makes It Work\" #GML2023 #ppcchat</td>\n",
              "      <td>0.003799</td>\n",
              "      <td>0.118735</td>\n",
              "      <td>0.877467</td>\n",
              "    </tr>\n",
              "    <tr>\n",
              "      <th>109</th>\n",
              "      <td>0</td>\n",
              "      <td>1661048102155960320</td>\n",
              "      <td>2023-05-23 16:35:02.000000</td>\n",
              "      <td>@bennjordan Meanwhile, they whine about rainbo...</td>\n",
              "      <td>0.646154</td>\n",
              "      <td>0.303830</td>\n",
              "      <td>0.050016</td>\n",
              "    </tr>\n",
              "  </tbody>\n",
              "</table>\n",
              "<p>110 rows × 7 columns</p>\n",
              "</div>\n",
              "      <button class=\"colab-df-convert\" onclick=\"convertToInteractive('df-0c43b633-27b4-4f77-92b8-f6100d6578c6')\"\n",
              "              title=\"Convert this dataframe to an interactive table.\"\n",
              "              style=\"display:none;\">\n",
              "        \n",
              "  <svg xmlns=\"http://www.w3.org/2000/svg\" height=\"24px\"viewBox=\"0 0 24 24\"\n",
              "       width=\"24px\">\n",
              "    <path d=\"M0 0h24v24H0V0z\" fill=\"none\"/>\n",
              "    <path d=\"M18.56 5.44l.94 2.06.94-2.06 2.06-.94-2.06-.94-.94-2.06-.94 2.06-2.06.94zm-11 1L8.5 8.5l.94-2.06 2.06-.94-2.06-.94L8.5 2.5l-.94 2.06-2.06.94zm10 10l.94 2.06.94-2.06 2.06-.94-2.06-.94-.94-2.06-.94 2.06-2.06.94z\"/><path d=\"M17.41 7.96l-1.37-1.37c-.4-.4-.92-.59-1.43-.59-.52 0-1.04.2-1.43.59L10.3 9.45l-7.72 7.72c-.78.78-.78 2.05 0 2.83L4 21.41c.39.39.9.59 1.41.59.51 0 1.02-.2 1.41-.59l7.78-7.78 2.81-2.81c.8-.78.8-2.07 0-2.86zM5.41 20L4 18.59l7.72-7.72 1.47 1.35L5.41 20z\"/>\n",
              "  </svg>\n",
              "      </button>\n",
              "      \n",
              "  <style>\n",
              "    .colab-df-container {\n",
              "      display:flex;\n",
              "      flex-wrap:wrap;\n",
              "      gap: 12px;\n",
              "    }\n",
              "\n",
              "    .colab-df-convert {\n",
              "      background-color: #E8F0FE;\n",
              "      border: none;\n",
              "      border-radius: 50%;\n",
              "      cursor: pointer;\n",
              "      display: none;\n",
              "      fill: #1967D2;\n",
              "      height: 32px;\n",
              "      padding: 0 0 0 0;\n",
              "      width: 32px;\n",
              "    }\n",
              "\n",
              "    .colab-df-convert:hover {\n",
              "      background-color: #E2EBFA;\n",
              "      box-shadow: 0px 1px 2px rgba(60, 64, 67, 0.3), 0px 1px 3px 1px rgba(60, 64, 67, 0.15);\n",
              "      fill: #174EA6;\n",
              "    }\n",
              "\n",
              "    [theme=dark] .colab-df-convert {\n",
              "      background-color: #3B4455;\n",
              "      fill: #D2E3FC;\n",
              "    }\n",
              "\n",
              "    [theme=dark] .colab-df-convert:hover {\n",
              "      background-color: #434B5C;\n",
              "      box-shadow: 0px 1px 3px 1px rgba(0, 0, 0, 0.15);\n",
              "      filter: drop-shadow(0px 1px 2px rgba(0, 0, 0, 0.3));\n",
              "      fill: #FFFFFF;\n",
              "    }\n",
              "  </style>\n",
              "\n",
              "      <script>\n",
              "        const buttonEl =\n",
              "          document.querySelector('#df-0c43b633-27b4-4f77-92b8-f6100d6578c6 button.colab-df-convert');\n",
              "        buttonEl.style.display =\n",
              "          google.colab.kernel.accessAllowed ? 'block' : 'none';\n",
              "\n",
              "        async function convertToInteractive(key) {\n",
              "          const element = document.querySelector('#df-0c43b633-27b4-4f77-92b8-f6100d6578c6');\n",
              "          const dataTable =\n",
              "            await google.colab.kernel.invokeFunction('convertToInteractive',\n",
              "                                                     [key], {});\n",
              "          if (!dataTable) return;\n",
              "\n",
              "          const docLinkHtml = 'Like what you see? Visit the ' +\n",
              "            '<a target=\"_blank\" href=https://colab.research.google.com/notebooks/data_table.ipynb>data table notebook</a>'\n",
              "            + ' to learn more about interactive tables.';\n",
              "          element.innerHTML = '';\n",
              "          dataTable['output_type'] = 'display_data';\n",
              "          await google.colab.output.renderOutput(dataTable, element);\n",
              "          const docLink = document.createElement('div');\n",
              "          docLink.innerHTML = docLinkHtml;\n",
              "          element.appendChild(docLink);\n",
              "        }\n",
              "      </script>\n",
              "    </div>\n",
              "  </div>\n",
              "  "
            ]
          },
          "metadata": {},
          "execution_count": 27
        }
      ]
    }
  ]
}